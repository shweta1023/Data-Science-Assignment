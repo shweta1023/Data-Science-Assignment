{
 "cells": [
  {
   "cell_type": "markdown",
   "id": "987b4580-2416-474e-9733-349cad2fac93",
   "metadata": {},
   "source": [
    "# Assignment 4: HYPOTHESIS TESTING "
   ]
  },
  {
   "cell_type": "code",
   "execution_count": 85,
   "id": "1282e85b-05a8-4e8a-8c85-cd83265aa355",
   "metadata": {},
   "outputs": [],
   "source": [
    "# To investigate the restaurant owners'claim about the increase in weekly operating costs using hypothesis testing."
   ]
  },
  {
   "cell_type": "code",
   "execution_count": 86,
   "id": "786a08aa-2008-4815-ba32-7d6fcbf0ee57",
   "metadata": {},
   "outputs": [],
   "source": [
    "import scipy.stats as stats"
   ]
  },
  {
   "cell_type": "code",
   "execution_count": 87,
   "id": "6f74efae-eadb-4333-9e35-fb19a89942c6",
   "metadata": {},
   "outputs": [],
   "source": [
    "# Given data as per problem"
   ]
  },
  {
   "cell_type": "code",
   "execution_count": 88,
   "id": "c87b4a84-fbba-4345-a3dc-01a5a2fa23ef",
   "metadata": {},
   "outputs": [],
   "source": [
    "sample_mean=3050 #sample mean weekly cost(Rs.)\n",
    "theoretical_mean = 1000 + 5 * 600 #Theoretical mean weekly cost according to the cost model\n",
    "std_dev = 5*25 #Standard Deviation (Rs.)\n",
    "sample_size = 25 #sample_size\n",
    "alpha = 0.05 #significant level"
   ]
  },
  {
   "cell_type": "markdown",
   "id": "be23875b-1422-4b4d-92a8-7f60b22fd629",
   "metadata": {},
   "source": [
    "# 1. State the Hypothesis Testing :-"
   ]
  },
  {
   "cell_type": "code",
   "execution_count": 90,
   "id": "a0abf108-bfd7-471f-8b79-6240895007bc",
   "metadata": {},
   "outputs": [],
   "source": [
    "# In data science, hypothesis testing is a statistical method used to make inferences or draw conclusions about a population based on sample data. It helps data scientists determine whether the patterns they observe in their data are statistically significant or occurred by chance\n",
    "# Null Hypothesis (H₀): This is the default assumption that there is no effect, no difference, or no relationship between the variables being tested. It is what you seek to disprove.\n",
    "# Alternative Hypothesis (H₁ or Ha): This is the claim that there is an effect, a difference, or a relationship between the variables. It is what you hope to demonstrate."
   ]
  },
  {
   "cell_type": "markdown",
   "id": "1d28cc00-6c73-4443-88cb-9ebcb45c2513",
   "metadata": {},
   "source": [
    "# 2. Calculate the Test Statistic :-"
   ]
  },
  {
   "cell_type": "code",
   "execution_count": 92,
   "id": "308ee649-fa20-4c1f-bcac-43b4d8b55cf4",
   "metadata": {},
   "outputs": [],
   "source": [
    "# calculating the test statics by using t-score"
   ]
  },
  {
   "cell_type": "code",
   "execution_count": 93,
   "id": "d15ab436-8af2-40be-ba2e-60255d70ccf2",
   "metadata": {},
   "outputs": [],
   "source": [
    "t_score = (sample_mean - theoretical_mean)/(std_dev/(sample_size**0.5))"
   ]
  },
  {
   "cell_type": "markdown",
   "id": "9edbf226-911b-4c35-b1d6-deb0830129ab",
   "metadata": {},
   "source": [
    "# 3. Determine the Critical Value :-"
   ]
  },
  {
   "cell_type": "code",
   "execution_count": 95,
   "id": "48022ee2-d6c7-4b02-a3f7-45b50067e6a5",
   "metadata": {},
   "outputs": [],
   "source": [
    "# degrees of freedom for one sample t-test is (n-1)\n",
    "degrees_of_freedom = sample_size-1"
   ]
  },
  {
   "cell_type": "code",
   "execution_count": 96,
   "id": "a2d05e82-9b30-4be8-9dc9-ae9930a6feae",
   "metadata": {},
   "outputs": [],
   "source": [
    "# determining the critical value from the t-distribution\n",
    "critical_value = stats.t.ppf(1-alpha, degrees_of_freedom)"
   ]
  },
  {
   "cell_type": "markdown",
   "id": "6fb5de4e-d9c4-48f0-9431-d0e753c38756",
   "metadata": {},
   "source": [
    "# 4. Make a Decision :-"
   ]
  },
  {
   "cell_type": "code",
   "execution_count": 98,
   "id": "b1260aa4-f0eb-40eb-bb8a-a1522cc98319",
   "metadata": {},
   "outputs": [],
   "source": [
    "# If the test statistic is greater than the critical value, then reject the null hypothesis.\n",
    "# If the test statistic is smaller than the critical value,then accept the null hypothesis.\n",
    "if t_score > critical_value:\n",
    "    decision = \"Reject the null hypothesis\"\n",
    "else:\n",
    "    decision = \"Fail to reject the null hypothesis\""
   ]
  },
  {
   "cell_type": "markdown",
   "id": "002c2e44-785c-4cad-9b51-49fc6c648d25",
   "metadata": {},
   "source": [
    "# 5. Conclusion :-"
   ]
  },
  {
   "cell_type": "code",
   "execution_count": 100,
   "id": "af892acf-d17b-4d46-b2a0-9a4437fd95e9",
   "metadata": {},
   "outputs": [],
   "source": [
    "# If we reject the null hypothesis, we have evidence to support the claim that the weekly operating costs are higher than the modelsuggests.\n",
    "# If we fail to reject the null hypothesis, there is not enough evidence to support the claim.\n",
    "if t_score > critical_value:\n",
    "    conclusion = \"There is strong evidence to support the restaurant owners'claim that the weekly operating costs are higher than the model suggests.\"\n",
    "else:\n",
    "    conclusion = \"There is not enough evidence to support the restaturant'owners claim that the weekly operating costs are higher than the model suggests.\""
   ]
  },
  {
   "cell_type": "code",
   "execution_count": 101,
   "id": "82e999e1-a57d-463e-9b64-072997e2893b",
   "metadata": {},
   "outputs": [
    {
     "name": "stdout",
     "output_type": "stream",
     "text": [
      "Test Statics(t_score): -38.0\n",
      "Critical value: 1.71088\n",
      "Decision: Fail to reject the null hypothesis\n",
      "Conclusion: There is not enough evidence to support the restaturant'owners claim that the weekly operating costs are higher than the model suggests.\n"
     ]
    }
   ],
   "source": [
    "# Output the results\n",
    "print(\"Test Statics(t_score):\",t_score)\n",
    "print(\"Critical value:\", critical_value.round(5))\n",
    "print (\"Decision:\",decision)\n",
    "print(\"Conclusion:\",conclusion)"
   ]
  }
 ],
 "metadata": {
  "kernelspec": {
   "display_name": "Python 3 (ipykernel)",
   "language": "python",
   "name": "python3"
  },
  "language_info": {
   "codemirror_mode": {
    "name": "ipython",
    "version": 3
   },
   "file_extension": ".py",
   "mimetype": "text/x-python",
   "name": "python",
   "nbconvert_exporter": "python",
   "pygments_lexer": "ipython3",
   "version": "3.12.4"
  }
 },
 "nbformat": 4,
 "nbformat_minor": 5
}
