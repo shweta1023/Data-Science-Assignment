{
 "cells": [
  {
   "cell_type": "markdown",
   "id": "b2a4a375-eec2-4815-9185-90e6c0e5f46a",
   "metadata": {},
   "source": [
    "# Assignment:2"
   ]
  },
  {
   "cell_type": "markdown",
   "id": "f4374f9a-eac2-47cf-8749-66bd1933b39f",
   "metadata": {},
   "source": [
    "# Estimation And Confidence Intervals"
   ]
  },
  {
   "cell_type": "markdown",
   "id": "407ab7b9-f6f6-404d-b45a-ced868601bc5",
   "metadata": {},
   "source": [
    "# Built 99% Confidence Interval Using Sample Standard Deviation"
   ]
  },
  {
   "cell_type": "code",
   "execution_count": 15,
   "id": "27807a66-f24f-435d-ba06-a59b57a197e3",
   "metadata": {},
   "outputs": [],
   "source": [
    "import numpy as np\n",
    "import scipy.stats as st\n",
    "from scipy import stats"
   ]
  },
  {
   "cell_type": "code",
   "execution_count": 16,
   "id": "a14f911e-db5d-4978-a547-fcf8571d3799",
   "metadata": {},
   "outputs": [],
   "source": [
    "data=[1.13, 1.55, 1.43, 0.92, 1.25, 1.36, 1.32, 0.85, 1.07, 1.48, 1.20, 1.33, 1.18, 1.22, 1.29]"
   ]
  },
  {
   "cell_type": "code",
   "execution_count": 17,
   "id": "315ff6d5-0d73-4501-a711-b248a9ac685a",
   "metadata": {},
   "outputs": [],
   "source": [
    "#build 99% confidence interval using sample standard deviation"
   ]
  },
  {
   "cell_type": "code",
   "execution_count": 18,
   "id": "38ebc1d8-d148-4bb7-bbce-0c486d24f804",
   "metadata": {},
   "outputs": [
    {
     "data": {
      "text/plain": [
       "(1.0901973384384906, 1.3871359948948425)"
      ]
     },
     "execution_count": 18,
     "metadata": {},
     "output_type": "execute_result"
    }
   ],
   "source": [
    "stats.t.interval(0.99,df=len(data)-1,\n",
    "                 loc=np.mean(data),\n",
    "                 scale=st.sem(data))"
   ]
  },
  {
   "cell_type": "markdown",
   "id": "197a6dbd-bb66-43af-b042-c1a87c55739b",
   "metadata": {},
   "source": [
    "# Build 99% Confidence Interval Using Known Population Standard Deviation"
   ]
  },
  {
   "cell_type": "code",
   "execution_count": 25,
   "id": "9ab71d58-11b5-40a0-8be0-caaa59d2551a",
   "metadata": {},
   "outputs": [
    {
     "data": {
      "text/plain": [
       "(0.6432981197924997, 1.8340352135408335)"
      ]
     },
     "execution_count": 25,
     "metadata": {},
     "output_type": "execute_result"
    }
   ],
   "source": [
    "stats.t.interval(0.99,df=len(data)-1,\n",
    "                loc=np.mean(data),\n",
    "                scale=0.2)"
   ]
  }
 ],
 "metadata": {
  "kernelspec": {
   "display_name": "Python 3 (ipykernel)",
   "language": "python",
   "name": "python3"
  },
  "language_info": {
   "codemirror_mode": {
    "name": "ipython",
    "version": 3
   },
   "file_extension": ".py",
   "mimetype": "text/x-python",
   "name": "python",
   "nbconvert_exporter": "python",
   "pygments_lexer": "ipython3",
   "version": "3.12.4"
  }
 },
 "nbformat": 4,
 "nbformat_minor": 5
}
