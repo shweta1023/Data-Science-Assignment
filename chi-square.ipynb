{
 "cells": [
  {
   "cell_type": "markdown",
   "id": "f5c45d96-0d3b-4c84-86a4-b19969fcf400",
   "metadata": {},
   "source": [
    "# Assignment : CHI-SQUARE TESTING"
   ]
  },
  {
   "cell_type": "code",
   "execution_count": 1,
   "id": "ddab35d3-2556-443d-a034-8ee8c43212e6",
   "metadata": {},
   "outputs": [],
   "source": [
    "import scipy.stats as st\n",
    "import pandas as pd"
   ]
  },
  {
   "cell_type": "markdown",
   "id": "469b2a52",
   "metadata": {},
   "source": []
  },
  {
   "cell_type": "markdown",
   "id": "2a0bc2c9-4ac0-4156-aa03-1fa894376560",
   "metadata": {},
   "source": [
    ".Association between Device Type and Customer Satisfaction\n",
    ".Background:\n",
    "Mizzare Corporation has collected data on customer satisfaction levels for two types of smart home devices: Smart Thermostats and Smart Lights. They want to determine if there's a significant association between the type of device purchased and the customer's satisfaction level.\n",
    ".Data Provided:\n",
    "The data is summarized in a contingency table showing the counts of customers in each satisfaction level for both types of devices:\n",
    ".Satisfaction\t Smart Thermostat\tSmart Light\t  Total\n",
    ".Very Satisfied\t      50\t           70\t       120\n",
    ".Satisfied\t          80\t          100\t       180\n",
    ".Neutral\t          60\t           90\t       150\n",
    ".Unsatisfied\t      30\t           50\t        80\n",
    ".Very Unsatisfied     20\t           50\t        70\n",
    ".Total\t              240\t           360\t        600\n",
    ".Objective:\n",
    "To use the Chi-Square test for independence to determine if there's a significant association between the type of smart home device purchased (Smart Thermostats vs. Smart Lights) and the customer satisfaction level.\n",
    "Assignment Tasks:\n",
    "1. State the Hypotheses:\n",
    "2. Compute the Chi-Square Statistic:\n",
    "3. Determine the Critical Value:\n",
    "Using the significance level (alpha) of 0.05 and the degrees of freedom (which is the number of categories minus 1)\n",
    "4. Make a Decision:\n",
    "Compare the Chi-Square statistic with the critical value to decide whether to reject the null hypothesis.\n"
   ]
  },
  {
   "cell_type": "code",
   "execution_count": 2,
   "id": "3f15d98c-b890-4d75-8e37-93f612f0ff8a",
   "metadata": {},
   "outputs": [
    {
     "data": {
      "text/plain": [
       "<function scipy.stats.contingency.chi2_contingency(observed, correction=True, lambda_=None)>"
      ]
     },
     "execution_count": 2,
     "metadata": {},
     "output_type": "execute_result"
    }
   ],
   "source": [
    "st.chi2_contingency"
   ]
  },
  {
   "cell_type": "code",
   "execution_count": 3,
   "id": "fa6ad13b-8d09-4fd5-b14a-6733efb004f4",
   "metadata": {},
   "outputs": [],
   "source": [
    "from scipy.stats import chi2_contingency"
   ]
  },
  {
   "cell_type": "code",
   "execution_count": 4,
   "id": "be405b62-722b-4053-8943-5fb9d7c7de1a",
   "metadata": {},
   "outputs": [
    {
     "data": {
      "text/html": [
       "<div>\n",
       "<style scoped>\n",
       "    .dataframe tbody tr th:only-of-type {\n",
       "        vertical-align: middle;\n",
       "    }\n",
       "\n",
       "    .dataframe tbody tr th {\n",
       "        vertical-align: top;\n",
       "    }\n",
       "\n",
       "    .dataframe thead th {\n",
       "        text-align: right;\n",
       "    }\n",
       "</style>\n",
       "<table border=\"1\" class=\"dataframe\">\n",
       "  <thead>\n",
       "    <tr style=\"text-align: right;\">\n",
       "      <th></th>\n",
       "      <th>Satisfaction</th>\n",
       "      <th>Smart Thermostat</th>\n",
       "      <th>Smart Light</th>\n",
       "      <th>Total</th>\n",
       "    </tr>\n",
       "  </thead>\n",
       "  <tbody>\n",
       "    <tr>\n",
       "      <th>0</th>\n",
       "      <td>Very Satisfied</td>\n",
       "      <td>50</td>\n",
       "      <td>70</td>\n",
       "      <td>120</td>\n",
       "    </tr>\n",
       "    <tr>\n",
       "      <th>1</th>\n",
       "      <td>Satisfied</td>\n",
       "      <td>80</td>\n",
       "      <td>100</td>\n",
       "      <td>180</td>\n",
       "    </tr>\n",
       "    <tr>\n",
       "      <th>2</th>\n",
       "      <td>Neutral</td>\n",
       "      <td>60</td>\n",
       "      <td>90</td>\n",
       "      <td>150</td>\n",
       "    </tr>\n",
       "    <tr>\n",
       "      <th>3</th>\n",
       "      <td>Unsatisfied</td>\n",
       "      <td>30</td>\n",
       "      <td>50</td>\n",
       "      <td>80</td>\n",
       "    </tr>\n",
       "    <tr>\n",
       "      <th>4</th>\n",
       "      <td>Very Unsatisfied</td>\n",
       "      <td>20</td>\n",
       "      <td>50</td>\n",
       "      <td>70</td>\n",
       "    </tr>\n",
       "    <tr>\n",
       "      <th>5</th>\n",
       "      <td>Total</td>\n",
       "      <td>240</td>\n",
       "      <td>360</td>\n",
       "      <td>600</td>\n",
       "    </tr>\n",
       "  </tbody>\n",
       "</table>\n",
       "</div>"
      ],
      "text/plain": [
       "       Satisfaction  Smart Thermostat  Smart Light  Total\n",
       "0    Very Satisfied                50           70    120\n",
       "1         Satisfied                80          100    180\n",
       "2           Neutral                60           90    150\n",
       "3       Unsatisfied                30           50     80\n",
       "4  Very Unsatisfied                20           50     70\n",
       "5             Total               240          360    600"
      ]
     },
     "execution_count": 4,
     "metadata": {},
     "output_type": "execute_result"
    }
   ],
   "source": [
    "df=pd.read_csv(r\"C:\\Users\\durwa\\Downloads\\chi-square test data.csv\")\n",
    "df\n",
    "#observed frequency table is already given."
   ]
  },
  {
   "cell_type": "code",
   "execution_count": 5,
   "id": "62e8ebe2-0b5e-43a4-9191-8006c9282d1e",
   "metadata": {},
   "outputs": [
    {
     "data": {
      "text/html": [
       "<div>\n",
       "<style scoped>\n",
       "    .dataframe tbody tr th:only-of-type {\n",
       "        vertical-align: middle;\n",
       "    }\n",
       "\n",
       "    .dataframe tbody tr th {\n",
       "        vertical-align: top;\n",
       "    }\n",
       "\n",
       "    .dataframe thead th {\n",
       "        text-align: right;\n",
       "    }\n",
       "</style>\n",
       "<table border=\"1\" class=\"dataframe\">\n",
       "  <thead>\n",
       "    <tr style=\"text-align: right;\">\n",
       "      <th>Smart Light</th>\n",
       "      <th>50</th>\n",
       "      <th>70</th>\n",
       "      <th>90</th>\n",
       "      <th>100</th>\n",
       "      <th>360</th>\n",
       "    </tr>\n",
       "    <tr>\n",
       "      <th>Smart Thermostat</th>\n",
       "      <th></th>\n",
       "      <th></th>\n",
       "      <th></th>\n",
       "      <th></th>\n",
       "      <th></th>\n",
       "    </tr>\n",
       "  </thead>\n",
       "  <tbody>\n",
       "    <tr>\n",
       "      <th>20</th>\n",
       "      <td>1</td>\n",
       "      <td>0</td>\n",
       "      <td>0</td>\n",
       "      <td>0</td>\n",
       "      <td>0</td>\n",
       "    </tr>\n",
       "    <tr>\n",
       "      <th>30</th>\n",
       "      <td>1</td>\n",
       "      <td>0</td>\n",
       "      <td>0</td>\n",
       "      <td>0</td>\n",
       "      <td>0</td>\n",
       "    </tr>\n",
       "    <tr>\n",
       "      <th>50</th>\n",
       "      <td>0</td>\n",
       "      <td>1</td>\n",
       "      <td>0</td>\n",
       "      <td>0</td>\n",
       "      <td>0</td>\n",
       "    </tr>\n",
       "    <tr>\n",
       "      <th>60</th>\n",
       "      <td>0</td>\n",
       "      <td>0</td>\n",
       "      <td>1</td>\n",
       "      <td>0</td>\n",
       "      <td>0</td>\n",
       "    </tr>\n",
       "    <tr>\n",
       "      <th>80</th>\n",
       "      <td>0</td>\n",
       "      <td>0</td>\n",
       "      <td>0</td>\n",
       "      <td>1</td>\n",
       "      <td>0</td>\n",
       "    </tr>\n",
       "    <tr>\n",
       "      <th>240</th>\n",
       "      <td>0</td>\n",
       "      <td>0</td>\n",
       "      <td>0</td>\n",
       "      <td>0</td>\n",
       "      <td>1</td>\n",
       "    </tr>\n",
       "  </tbody>\n",
       "</table>\n",
       "</div>"
      ],
      "text/plain": [
       "Smart Light       50   70   90   100  360\n",
       "Smart Thermostat                         \n",
       "20                  1    0    0    0    0\n",
       "30                  1    0    0    0    0\n",
       "50                  0    1    0    0    0\n",
       "60                  0    0    1    0    0\n",
       "80                  0    0    0    1    0\n",
       "240                 0    0    0    0    1"
      ]
     },
     "execution_count": 5,
     "metadata": {},
     "output_type": "execute_result"
    }
   ],
   "source": [
    "pd.crosstab(index=df['Smart Thermostat'],columns=df['Smart Light'])"
   ]
  },
  {
   "cell_type": "code",
   "execution_count": null,
   "id": "e369d817",
   "metadata": {},
   "outputs": [],
   "source": []
  },
  {
   "cell_type": "code",
   "execution_count": 6,
   "id": "35b2734f-88f0-4841-92f2-f27dc8b2d2a6",
   "metadata": {},
   "outputs": [],
   "source": [
    "obs=pd.crosstab(index=df['Smart Thermostat'],columns=df['Smart Light'])"
   ]
  },
  {
   "cell_type": "code",
   "execution_count": 7,
   "id": "57506465-355d-493b-b435-893a65d89d40",
   "metadata": {},
   "outputs": [
    {
     "data": {
      "text/plain": [
       "Chi2ContingencyResult(statistic=24.000000000000007, pvalue=0.2423921616705121, dof=20, expected_freq=array([[0.33333333, 0.16666667, 0.16666667, 0.16666667, 0.16666667],\n",
       "       [0.33333333, 0.16666667, 0.16666667, 0.16666667, 0.16666667],\n",
       "       [0.33333333, 0.16666667, 0.16666667, 0.16666667, 0.16666667],\n",
       "       [0.33333333, 0.16666667, 0.16666667, 0.16666667, 0.16666667],\n",
       "       [0.33333333, 0.16666667, 0.16666667, 0.16666667, 0.16666667],\n",
       "       [0.33333333, 0.16666667, 0.16666667, 0.16666667, 0.16666667]]))"
      ]
     },
     "execution_count": 7,
     "metadata": {},
     "output_type": "execute_result"
    }
   ],
   "source": [
    "chi2_contingency(obs)"
   ]
  },
  {
   "cell_type": "code",
   "execution_count": 8,
   "id": "ca36b2a8-3bc3-4712-b96a-d54fe1f5eb46",
   "metadata": {},
   "outputs": [],
   "source": [
    "chi2,p,dof,exp  = chi2_contingency(obs)"
   ]
  },
  {
   "cell_type": "code",
   "execution_count": 9,
   "id": "24e9194c-d9f8-4357-99f6-14e9b849e3a4",
   "metadata": {},
   "outputs": [
    {
     "data": {
      "text/plain": [
       "24.000000000000007"
      ]
     },
     "execution_count": 9,
     "metadata": {},
     "output_type": "execute_result"
    }
   ],
   "source": [
    "chi2"
   ]
  },
  {
   "cell_type": "code",
   "execution_count": 10,
   "id": "c9806af3-7340-4996-9b2d-22d222456a75",
   "metadata": {},
   "outputs": [
    {
     "data": {
      "text/plain": [
       "0.2423921616705121"
      ]
     },
     "execution_count": 10,
     "metadata": {},
     "output_type": "execute_result"
    }
   ],
   "source": [
    "p"
   ]
  },
  {
   "cell_type": "code",
   "execution_count": 11,
   "id": "924591ec-a93b-4637-8ec2-5c521974c118",
   "metadata": {},
   "outputs": [
    {
     "data": {
      "text/plain": [
       "20"
      ]
     },
     "execution_count": 11,
     "metadata": {},
     "output_type": "execute_result"
    }
   ],
   "source": [
    "dof"
   ]
  },
  {
   "cell_type": "code",
   "execution_count": 12,
   "id": "4dfe5891-b1e1-44d4-8932-0b9ea5b933f1",
   "metadata": {},
   "outputs": [
    {
     "data": {
      "text/plain": [
       "array([[0.33333333, 0.16666667, 0.16666667, 0.16666667, 0.16666667],\n",
       "       [0.33333333, 0.16666667, 0.16666667, 0.16666667, 0.16666667],\n",
       "       [0.33333333, 0.16666667, 0.16666667, 0.16666667, 0.16666667],\n",
       "       [0.33333333, 0.16666667, 0.16666667, 0.16666667, 0.16666667],\n",
       "       [0.33333333, 0.16666667, 0.16666667, 0.16666667, 0.16666667],\n",
       "       [0.33333333, 0.16666667, 0.16666667, 0.16666667, 0.16666667]])"
      ]
     },
     "execution_count": 12,
     "metadata": {},
     "output_type": "execute_result"
    }
   ],
   "source": [
    "exp"
   ]
  },
  {
   "cell_type": "code",
   "execution_count": 13,
   "id": "dc15f758-9744-4823-ad39-66c6725e14af",
   "metadata": {},
   "outputs": [
    {
     "data": {
      "text/plain": [
       "31.410432844230918"
      ]
     },
     "execution_count": 13,
     "metadata": {},
     "output_type": "execute_result"
    }
   ],
   "source": [
    "alpha=0.05\n",
    "critical_value=st.chi2.ppf(1-alpha,dof)\n",
    "critical_value"
   ]
  },
  {
   "cell_type": "code",
   "execution_count": 14,
   "id": "7854d104-7518-42d6-b264-261797b4eb44",
   "metadata": {},
   "outputs": [
    {
     "name": "stdout",
     "output_type": "stream",
     "text": [
      "Reject Null Hypothesis.there's a significant association between the type of device and the customer satisfaction.\n"
     ]
    }
   ],
   "source": [
    "if chi2 < critical_value:\n",
    "    print(\"Reject Null Hypothesis.there's a significant association between the type of device and the customer satisfaction.\")\n",
    "else:\n",
    "    print(\"Fail to reject null hypothesis.there's no significant association between the type of device and the customer satisfaction.\")"
   ]
  },
  {
   "cell_type": "code",
   "execution_count": null,
   "id": "9d48499b-d738-421e-a220-cfd02c8ad9ac",
   "metadata": {},
   "outputs": [],
   "source": []
  },
  {
   "cell_type": "code",
   "execution_count": null,
   "id": "2cdfab8e-03d6-4753-adc9-52a5f5c7694b",
   "metadata": {},
   "outputs": [],
   "source": []
  }
 ],
 "metadata": {
  "kernelspec": {
   "display_name": "Python 3 (ipykernel)",
   "language": "python",
   "name": "python3"
  },
  "language_info": {
   "codemirror_mode": {
    "name": "ipython",
    "version": 3
   },
   "file_extension": ".py",
   "mimetype": "text/x-python",
   "name": "python",
   "nbconvert_exporter": "python",
   "pygments_lexer": "ipython3",
   "version": "3.12.4"
  }
 },
 "nbformat": 4,
 "nbformat_minor": 5
}
