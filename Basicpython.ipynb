{
 "cells": [
  {
   "cell_type": "markdown",
   "id": "d9af25ca-0bbc-4762-ba50-a7fbf01217d7",
   "metadata": {},
   "source": [
    "# PYTHON PROGRAMMING ASSIGNMENT"
   ]
  },
  {
   "cell_type": "markdown",
   "id": "6a0737c2-d65c-40ff-ab1a-95a89f56481b",
   "metadata": {},
   "source": [
    "# Exercise 1: Prime Numbers"
   ]
  },
  {
   "cell_type": "code",
   "execution_count": null,
   "id": "811d9811-f040-4591-a67d-94b3eae72db1",
   "metadata": {},
   "outputs": [],
   "source": [
    "#Write a Python program that checks whether a given number is prime or not. A prime number is a natural number greater than 1 that has no positive divisors other than 1 and itself."
   ]
  },
  {
   "cell_type": "code",
   "execution_count": 1,
   "id": "bdb98dbf-a571-48ef-9030-d208db7b6e63",
   "metadata": {},
   "outputs": [
    {
     "name": "stdout",
     "output_type": "stream",
     "text": [
      "11 is a prime number\n"
     ]
    }
   ],
   "source": [
    "num = 11\n",
    "# Negative numbers, 0 and 1 are not primes\n",
    "if num > 1:\n",
    "  \n",
    "    # Iterate from 2 to n // 2\n",
    "    for i in range(2, (num//2)+1):\n",
    "      \n",
    "        # If num is divisible by any number between\n",
    "        # 2 and n / 2, it is not prime\n",
    "        if (num % i) == 0:\n",
    "            print(num, \"is not a prime number\")\n",
    "            break\n",
    "    else:\n",
    "        print(num, \"is a prime number\")\n",
    "else:\n",
    "    print(num, \"is not a prime number\")"
   ]
  },
  {
   "cell_type": "markdown",
   "id": "d6a7ad12-e91a-49d9-b739-4af05c93d910",
   "metadata": {},
   "source": [
    "# Exercise 2: Product of Rndaom Numbers"
   ]
  },
  {
   "cell_type": "code",
   "execution_count": null,
   "id": "e1d6fb7b-7300-479b-8142-aa1b43d74969",
   "metadata": {},
   "outputs": [],
   "source": [
    "# Develop a Python program that generates two random numbers and asks the user to enter the product of these numbers. The program should then check if the user's answer is correct and display an appropriate message."
   ]
  },
  {
   "cell_type": "code",
   "execution_count": 10,
   "id": "c891510c-39c1-44ac-ab54-65ca66ee83c8",
   "metadata": {},
   "outputs": [
    {
     "name": "stdout",
     "output_type": "stream",
     "text": [
      "What is the product of 9 and 2?\n"
     ]
    },
    {
     "name": "stdin",
     "output_type": "stream",
     "text": [
      "Enter your answer:  9\n"
     ]
    },
    {
     "name": "stdout",
     "output_type": "stream",
     "text": [
      "Oops! The correct answer is 18.\n"
     ]
    }
   ],
   "source": [
    "import random\n",
    "\n",
    "def main():\n",
    "    # Generate two random numbers\n",
    "    num1 = random.randint(1, 10)  # Random number between 1 and 10\n",
    "    num2 = random.randint(1, 10)  # Random number between 1 and 10\n",
    "\n",
    "    # Calculate the actual product\n",
    "    actual_product = num1 * num2\n",
    "\n",
    "    # Ask the user to enter the product\n",
    "    print(f\"What is the product of {num1} and {num2}?\")\n",
    "    user_answer = int(input(\"Enter your answer: \"))\n",
    "\n",
    "    # Check if the user's answer is correct\n",
    "    if user_answer == actual_product:\n",
    "        print(\"Correct! Well done.\")\n",
    "    else:\n",
    "        print(f\"Oops! The correct answer is {actual_product}.\")\n",
    "\n",
    "# Run the program\n",
    "if __name__ == \"__main__\":\n",
    "    main()"
   ]
  },
  {
   "cell_type": "markdown",
   "id": "02a1934c-4fb5-45d0-93bd-91bac8b2c941",
   "metadata": {},
   "source": [
    "# Exercise 3: Squares of Even/Odd Numbers"
   ]
  },
  {
   "cell_type": "code",
   "execution_count": null,
   "id": "0e289cad-2826-45d2-9a98-3ee22eba178a",
   "metadata": {},
   "outputs": [],
   "source": [
    "# Create a python script that prints the squares of all even or odd numbers within the range of 100 to 200. Choose either even or odd numbers and document your choice in the code. "
   ]
  },
  {
   "cell_type": "code",
   "execution_count": 1,
   "id": "d15008ca-701f-4a20-bdd8-57befde21a3b",
   "metadata": {},
   "outputs": [
    {
     "name": "stdout",
     "output_type": "stream",
     "text": [
      "The square of 101 is 10201\n",
      "The square of 103 is 10609\n",
      "The square of 105 is 11025\n",
      "The square of 107 is 11449\n",
      "The square of 109 is 11881\n",
      "The square of 111 is 12321\n",
      "The square of 113 is 12769\n",
      "The square of 115 is 13225\n",
      "The square of 117 is 13689\n",
      "The square of 119 is 14161\n",
      "The square of 121 is 14641\n",
      "The square of 123 is 15129\n",
      "The square of 125 is 15625\n",
      "The square of 127 is 16129\n",
      "The square of 129 is 16641\n",
      "The square of 131 is 17161\n",
      "The square of 133 is 17689\n",
      "The square of 135 is 18225\n",
      "The square of 137 is 18769\n",
      "The square of 139 is 19321\n",
      "The square of 141 is 19881\n",
      "The square of 143 is 20449\n",
      "The square of 145 is 21025\n",
      "The square of 147 is 21609\n",
      "The square of 149 is 22201\n",
      "The square of 151 is 22801\n",
      "The square of 153 is 23409\n",
      "The square of 155 is 24025\n",
      "The square of 157 is 24649\n",
      "The square of 159 is 25281\n",
      "The square of 161 is 25921\n",
      "The square of 163 is 26569\n",
      "The square of 165 is 27225\n",
      "The square of 167 is 27889\n",
      "The square of 169 is 28561\n",
      "The square of 171 is 29241\n",
      "The square of 173 is 29929\n",
      "The square of 175 is 30625\n",
      "The square of 177 is 31329\n",
      "The square of 179 is 32041\n",
      "The square of 181 is 32761\n",
      "The square of 183 is 33489\n",
      "The square of 185 is 34225\n",
      "The square of 187 is 34969\n",
      "The square of 189 is 35721\n",
      "The square of 191 is 36481\n",
      "The square of 193 is 37249\n",
      "The square of 195 is 38025\n",
      "The square of 197 is 38809\n",
      "The square of 199 is 39601\n"
     ]
    }
   ],
   "source": [
    "# Loop through the range 100 to 200\n",
    "for num in range(100, 201):\n",
    "    # Check if the number is odd\n",
    "    if num % 2 != 0:\n",
    "        # Print the square of the odd number\n",
    "        print(f\"The square of {num} is {num ** 2}\")"
   ]
  },
  {
   "cell_type": "markdown",
   "id": "3df8b49f-1587-4a64-ade2-cf980f88a151",
   "metadata": {},
   "source": [
    "# Exercise 4: Word counter"
   ]
  },
  {
   "cell_type": "code",
   "execution_count": null,
   "id": "0ce9fef0-7874-4d6e-b33d-e6cbad4b7bfc",
   "metadata": {},
   "outputs": [],
   "source": [
    "#write a program to count the number of words in a given text.\n",
    "example:\n",
    "input_text = \"This is a sample text. This text will be used to demonstrate the word counter.\"\n",
    "Expected output:\n",
    "'This': 2 \n",
    "'is': 1\n",
    "'a': 1\n",
    "'sample': 1\n",
    "'text.': 1\n"
   ]
  },
  {
   "cell_type": "code",
   "execution_count": 9,
   "id": "e03f9535-6685-42dd-92b2-7ec67ea22d38",
   "metadata": {},
   "outputs": [
    {
     "name": "stdout",
     "output_type": "stream",
     "text": [
      "'this': 2\n",
      "'is': 1\n",
      "'a': 1\n",
      "'sample': 1\n",
      "'text': 2\n",
      "'will': 1\n",
      "'be': 1\n",
      "'used': 1\n",
      "'to': 1\n",
      "'demonstrate': 1\n",
      "'the': 1\n",
      "'word': 1\n",
      "'counter': 1\n"
     ]
    }
   ],
   "source": [
    "# Input text\n",
    "input_text = \"This is a sample text. This text will be used to demonstrate the word counter.\"\n",
    "\n",
    "# Preprocess text: Remove punctuation and convert to lowercase\n",
    "words = re.findall(r'\\b\\w+\\b', input_text.lower())\n",
    "\n",
    "# Count the frequency of each word\n",
    "word_count = Counter(words)\n",
    "\n",
    "# Display the word count\n",
    "for word, count in word_count.items():\n",
    "    print(f\"'{word}': {count}\")\n"
   ]
  },
  {
   "cell_type": "markdown",
   "id": "4e89fcf8-cf29-47f1-af36-f2fb5e8f606a",
   "metadata": {},
   "source": [
    "# Exercise 5: Check for Palindrome"
   ]
  },
  {
   "cell_type": "code",
   "execution_count": null,
   "id": "8b47d78e-cf48-4241-9a6b-93dcfa86ff01",
   "metadata": {},
   "outputs": [],
   "source": [
    "# Write a Python function callled is_palindrome that takes a string as input and returns True if the string is palindrome, and False otherwise. A palindrome is a word, phrase, number, or other sequence of characters that reads the same forward and backword, ignoring spaces, punctuation, and capitalization."
   ]
  },
  {
   "cell_type": "code",
   "execution_count": 22,
   "id": "457628d4-65ac-405c-acc8-fa94d168fa6b",
   "metadata": {},
   "outputs": [
    {
     "name": "stdout",
     "output_type": "stream",
     "text": [
      "True\n"
     ]
    }
   ],
   "source": [
    "def is_palindrome(input_string):\n",
    "    # Preprocess the input: remove non-alphanumeric characters and convert to lowercase\n",
    "    clean_string = re.sub(r'[^a-zA-Z0-9]', '', input_string).lower()\n",
    "    \n",
    "    # Check if the cleaned string is the same forwards and backward\n",
    "    return clean_string == clean_string[::-1]\n",
    "\n",
    "# Example usage:\n",
    "test_string = \"A man, a plan, a canal, Panama\"\n",
    "print(is_palindrome(test_string))  \n"
   ]
  }
 ],
 "metadata": {
  "kernelspec": {
   "display_name": "Python 3 (ipykernel)",
   "language": "python",
   "name": "python3"
  },
  "language_info": {
   "codemirror_mode": {
    "name": "ipython",
    "version": 3
   },
   "file_extension": ".py",
   "mimetype": "text/x-python",
   "name": "python",
   "nbconvert_exporter": "python",
   "pygments_lexer": "ipython3",
   "version": "3.12.4"
  }
 },
 "nbformat": 4,
 "nbformat_minor": 5
}
