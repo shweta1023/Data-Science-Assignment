{
 "cells": [
  {
   "cell_type": "code",
   "execution_count": null,
   "id": "3b9f320e-abd2-4cea-9765-580f5028f1c0",
   "metadata": {},
   "outputs": [],
   "source": []
  },
  {
   "cell_type": "code",
   "execution_count": null,
   "id": "ca5db53f-db39-46ee-979d-5a52fe844a65",
   "metadata": {},
   "outputs": [],
   "source": [
    "#Import libraries"
   ]
  },
  {
   "cell_type": "code",
   "execution_count": 2,
   "id": "ff4ef0a6-fc98-42ce-a61b-3c228c6c8b04",
   "metadata": {},
   "outputs": [],
   "source": [
    "import pandas as pd\n",
    "import numpy as np\n",
    "import matplotlib.pyplot as plt\n",
    "import seaborn as sns\n",
    "plt.rcParams['figure.figsize'] = (10,5)\n",
    "plt.rcParams['figure.dpi'] = 250\n",
    "import warnings\n",
    "warnings.filterwarnings('ignore')\n",
    "sns.set_theme(style='darkgrid', palette='viridis')\n",
    "%matplotlib inline"
   ]
  },
  {
   "cell_type": "code",
   "execution_count": null,
   "id": "3f5c3f2d-0e75-4898-b14b-076520d97b0a",
   "metadata": {},
   "outputs": [],
   "source": [
    "#Load the data"
   ]
  },
  {
   "cell_type": "code",
   "execution_count": 5,
   "id": "0dfe0b92-b058-4f80-9984-15117bdc4aca",
   "metadata": {},
   "outputs": [
    {
     "data": {
      "text/html": [
       "<div>\n",
       "<style scoped>\n",
       "    .dataframe tbody tr th:only-of-type {\n",
       "        vertical-align: middle;\n",
       "    }\n",
       "\n",
       "    .dataframe tbody tr th {\n",
       "        vertical-align: top;\n",
       "    }\n",
       "\n",
       "    .dataframe thead th {\n",
       "        text-align: right;\n",
       "    }\n",
       "</style>\n",
       "<table border=\"1\" class=\"dataframe\">\n",
       "  <thead>\n",
       "    <tr style=\"text-align: right;\">\n",
       "      <th></th>\n",
       "      <th>anime_id</th>\n",
       "      <th>name</th>\n",
       "      <th>genre</th>\n",
       "      <th>type</th>\n",
       "      <th>episodes</th>\n",
       "      <th>rating</th>\n",
       "      <th>members</th>\n",
       "    </tr>\n",
       "  </thead>\n",
       "  <tbody>\n",
       "    <tr>\n",
       "      <th>0</th>\n",
       "      <td>32281</td>\n",
       "      <td>Kimi no Na wa.</td>\n",
       "      <td>Drama, Romance, School, Supernatural</td>\n",
       "      <td>Movie</td>\n",
       "      <td>1</td>\n",
       "      <td>9.37</td>\n",
       "      <td>200630</td>\n",
       "    </tr>\n",
       "    <tr>\n",
       "      <th>1</th>\n",
       "      <td>5114</td>\n",
       "      <td>Fullmetal Alchemist: Brotherhood</td>\n",
       "      <td>Action, Adventure, Drama, Fantasy, Magic, Mili...</td>\n",
       "      <td>TV</td>\n",
       "      <td>64</td>\n",
       "      <td>9.26</td>\n",
       "      <td>793665</td>\n",
       "    </tr>\n",
       "    <tr>\n",
       "      <th>2</th>\n",
       "      <td>28977</td>\n",
       "      <td>Gintama°</td>\n",
       "      <td>Action, Comedy, Historical, Parody, Samurai, S...</td>\n",
       "      <td>TV</td>\n",
       "      <td>51</td>\n",
       "      <td>9.25</td>\n",
       "      <td>114262</td>\n",
       "    </tr>\n",
       "    <tr>\n",
       "      <th>3</th>\n",
       "      <td>9253</td>\n",
       "      <td>Steins;Gate</td>\n",
       "      <td>Sci-Fi, Thriller</td>\n",
       "      <td>TV</td>\n",
       "      <td>24</td>\n",
       "      <td>9.17</td>\n",
       "      <td>673572</td>\n",
       "    </tr>\n",
       "    <tr>\n",
       "      <th>4</th>\n",
       "      <td>9969</td>\n",
       "      <td>Gintama&amp;#039;</td>\n",
       "      <td>Action, Comedy, Historical, Parody, Samurai, S...</td>\n",
       "      <td>TV</td>\n",
       "      <td>51</td>\n",
       "      <td>9.16</td>\n",
       "      <td>151266</td>\n",
       "    </tr>\n",
       "    <tr>\n",
       "      <th>...</th>\n",
       "      <td>...</td>\n",
       "      <td>...</td>\n",
       "      <td>...</td>\n",
       "      <td>...</td>\n",
       "      <td>...</td>\n",
       "      <td>...</td>\n",
       "      <td>...</td>\n",
       "    </tr>\n",
       "    <tr>\n",
       "      <th>12289</th>\n",
       "      <td>9316</td>\n",
       "      <td>Toushindai My Lover: Minami tai Mecha-Minami</td>\n",
       "      <td>Hentai</td>\n",
       "      <td>OVA</td>\n",
       "      <td>1</td>\n",
       "      <td>4.15</td>\n",
       "      <td>211</td>\n",
       "    </tr>\n",
       "    <tr>\n",
       "      <th>12290</th>\n",
       "      <td>5543</td>\n",
       "      <td>Under World</td>\n",
       "      <td>Hentai</td>\n",
       "      <td>OVA</td>\n",
       "      <td>1</td>\n",
       "      <td>4.28</td>\n",
       "      <td>183</td>\n",
       "    </tr>\n",
       "    <tr>\n",
       "      <th>12291</th>\n",
       "      <td>5621</td>\n",
       "      <td>Violence Gekiga David no Hoshi</td>\n",
       "      <td>Hentai</td>\n",
       "      <td>OVA</td>\n",
       "      <td>4</td>\n",
       "      <td>4.88</td>\n",
       "      <td>219</td>\n",
       "    </tr>\n",
       "    <tr>\n",
       "      <th>12292</th>\n",
       "      <td>6133</td>\n",
       "      <td>Violence Gekiga Shin David no Hoshi: Inma Dens...</td>\n",
       "      <td>Hentai</td>\n",
       "      <td>OVA</td>\n",
       "      <td>1</td>\n",
       "      <td>4.98</td>\n",
       "      <td>175</td>\n",
       "    </tr>\n",
       "    <tr>\n",
       "      <th>12293</th>\n",
       "      <td>26081</td>\n",
       "      <td>Yasuji no Pornorama: Yacchimae!!</td>\n",
       "      <td>Hentai</td>\n",
       "      <td>Movie</td>\n",
       "      <td>1</td>\n",
       "      <td>5.46</td>\n",
       "      <td>142</td>\n",
       "    </tr>\n",
       "  </tbody>\n",
       "</table>\n",
       "<p>12294 rows × 7 columns</p>\n",
       "</div>"
      ],
      "text/plain": [
       "       anime_id                                               name  \\\n",
       "0         32281                                     Kimi no Na wa.   \n",
       "1          5114                   Fullmetal Alchemist: Brotherhood   \n",
       "2         28977                                           Gintama°   \n",
       "3          9253                                        Steins;Gate   \n",
       "4          9969                                      Gintama&#039;   \n",
       "...         ...                                                ...   \n",
       "12289      9316       Toushindai My Lover: Minami tai Mecha-Minami   \n",
       "12290      5543                                        Under World   \n",
       "12291      5621                     Violence Gekiga David no Hoshi   \n",
       "12292      6133  Violence Gekiga Shin David no Hoshi: Inma Dens...   \n",
       "12293     26081                   Yasuji no Pornorama: Yacchimae!!   \n",
       "\n",
       "                                                   genre   type episodes  \\\n",
       "0                   Drama, Romance, School, Supernatural  Movie        1   \n",
       "1      Action, Adventure, Drama, Fantasy, Magic, Mili...     TV       64   \n",
       "2      Action, Comedy, Historical, Parody, Samurai, S...     TV       51   \n",
       "3                                       Sci-Fi, Thriller     TV       24   \n",
       "4      Action, Comedy, Historical, Parody, Samurai, S...     TV       51   \n",
       "...                                                  ...    ...      ...   \n",
       "12289                                             Hentai    OVA        1   \n",
       "12290                                             Hentai    OVA        1   \n",
       "12291                                             Hentai    OVA        4   \n",
       "12292                                             Hentai    OVA        1   \n",
       "12293                                             Hentai  Movie        1   \n",
       "\n",
       "       rating  members  \n",
       "0        9.37   200630  \n",
       "1        9.26   793665  \n",
       "2        9.25   114262  \n",
       "3        9.17   673572  \n",
       "4        9.16   151266  \n",
       "...       ...      ...  \n",
       "12289    4.15      211  \n",
       "12290    4.28      183  \n",
       "12291    4.88      219  \n",
       "12292    4.98      175  \n",
       "12293    5.46      142  \n",
       "\n",
       "[12294 rows x 7 columns]"
      ]
     },
     "execution_count": 5,
     "metadata": {},
     "output_type": "execute_result"
    }
   ],
   "source": [
    "df = pd.read_csv(r'C:\\Users\\Lenovo\\Downloads\\Recommendation System\\anime.csv')\n",
    "df"
   ]
  },
  {
   "cell_type": "code",
   "execution_count": null,
   "id": "ba6efee0-6dfe-4061-b84a-d6fed68a1736",
   "metadata": {},
   "outputs": [],
   "source": [
    "df.describe()"
   ]
  },
  {
   "cell_type": "code",
   "execution_count": null,
   "id": "9ff6bfb6-92be-443e-b6e0-17b350561af9",
   "metadata": {},
   "outputs": [],
   "source": [
    "df.info()"
   ]
  },
  {
   "cell_type": "code",
   "execution_count": null,
   "id": "2c122c68-18fc-4edb-93f0-fd528a5c91c6",
   "metadata": {},
   "outputs": [],
   "source": [
    "#Chcek the missing values"
   ]
  },
  {
   "cell_type": "code",
   "execution_count": null,
   "id": "70dfea0e-ec75-4d8d-bc81-3bfc5c3b1459",
   "metadata": {},
   "outputs": [],
   "source": [
    "df.isnull().sum()"
   ]
  },
  {
   "cell_type": "code",
   "execution_count": null,
   "id": "67083555-1043-4e24-885e-5f4b4bbed8cf",
   "metadata": {},
   "outputs": [],
   "source": [
    "#Drop the missing values"
   ]
  },
  {
   "cell_type": "code",
   "execution_count": null,
   "id": "cad8d4ea-f00e-4b2b-8194-0cd656d5a70d",
   "metadata": {},
   "outputs": [],
   "source": [
    "df.fillna({'rating': df['rating'].mean()}, inplace=True)\n",
    "df.dropna(inplace=True)"
   ]
  },
  {
   "cell_type": "markdown",
   "id": "e14f8809-a1ff-419f-9cf0-8d8f2cded891",
   "metadata": {},
   "source": [
    "**EDA**"
   ]
  },
  {
   "cell_type": "code",
   "execution_count": null,
   "id": "313baae0-1bfd-438a-b23f-13742ace1b10",
   "metadata": {},
   "outputs": [],
   "source": [
    "#Checking the unique names and genre"
   ]
  },
  {
   "cell_type": "code",
   "execution_count": 7,
   "id": "a498632c-a6da-407d-8d72-90760e2c4fdb",
   "metadata": {},
   "outputs": [
    {
     "data": {
      "text/plain": [
       "12292"
      ]
     },
     "execution_count": 7,
     "metadata": {},
     "output_type": "execute_result"
    }
   ],
   "source": [
    "df['name'].nunique()"
   ]
  },
  {
   "cell_type": "code",
   "execution_count": 8,
   "id": "c51e117e-fa5d-4b26-826c-e04ba6fcc94d",
   "metadata": {},
   "outputs": [
    {
     "data": {
      "text/plain": [
       "3264"
      ]
     },
     "execution_count": 8,
     "metadata": {},
     "output_type": "execute_result"
    }
   ],
   "source": [
    "df['genre'].nunique()"
   ]
  },
  {
   "cell_type": "markdown",
   "id": "6706e62c-e871-4f5f-bb97-3cbf6939340d",
   "metadata": {},
   "source": [
    "**Data Visualization**"
   ]
  },
  {
   "cell_type": "code",
   "execution_count": null,
   "id": "47022725-0773-4325-9a82-9015da84144e",
   "metadata": {},
   "outputs": [],
   "source": [
    "#Countplot"
   ]
  },
  {
   "cell_type": "code",
   "execution_count": null,
   "id": "a365fc13-60a4-4727-b278-9291a67f9080",
   "metadata": {},
   "outputs": [
    {
     "data": {
      "text/plain": [
       "<Axes: xlabel='count', ylabel='name'>"
      ]
     },
     "execution_count": 10,
     "metadata": {},
     "output_type": "execute_result"
    }
   ],
   "source": [
    "sns.countplot(y = df['name'])"
   ]
  },
  {
   "cell_type": "code",
   "execution_count": null,
   "id": "cd9a4c4d-f93c-4eea-862c-6cb33b8a9c8b",
   "metadata": {},
   "outputs": [],
   "source": [
    "df['name'].value_counts()"
   ]
  },
  {
   "cell_type": "code",
   "execution_count": null,
   "id": "fe453ab8-0900-4246-841c-be5e58e4e9e5",
   "metadata": {},
   "outputs": [],
   "source": [
    "sns.countplot(x = df['rating'])"
   ]
  },
  {
   "cell_type": "code",
   "execution_count": null,
   "id": "7e09e27e-d54a-402f-bbba-19666385f38c",
   "metadata": {},
   "outputs": [],
   "source": [
    "#One hot encoding"
   ]
  },
  {
   "cell_type": "code",
   "execution_count": null,
   "id": "d675f8b1-7137-4dca-a7a9-3d7b2f69f382",
   "metadata": {},
   "outputs": [],
   "source": [
    "df['genre'] = df['genre'].apply(lambda x: x.split(','))\n",
    "df_exploded = df.explode('genre')\n",
    "df_one_hot = pd.get_dummies(df_exploded['genre'])\n",
    "df_genre_encoded = df.join(df_one_hot).groupby('anime_id').sum()"
   ]
  },
  {
   "cell_type": "code",
   "execution_count": null,
   "id": "ebde16e1-3fcf-400f-845b-8ffe6bba769c",
   "metadata": {},
   "outputs": [],
   "source": [
    "#Normalization"
   ]
  },
  {
   "cell_type": "code",
   "execution_count": null,
   "id": "f5186c04-35fc-436e-b383-576338d1cc26",
   "metadata": {},
   "outputs": [],
   "source": [
    "from sklearn.preprocessing import MinMaxScaler"
   ]
  },
  {
   "cell_type": "code",
   "execution_count": null,
   "id": "815ca142-eedc-4563-9e30-631aa663e0ea",
   "metadata": {},
   "outputs": [],
   "source": [
    "scaler = MinMaxScaler()\n",
    "df[['rating', 'episodes', 'members']] = scaler.fit_transform(df[['rating', 'episodes', 'members']])"
   ]
  },
  {
   "cell_type": "code",
   "execution_count": null,
   "id": "9d544341-7538-4ca0-9081-c024d9528101",
   "metadata": {},
   "outputs": [],
   "source": [
    "#Define cosine similarity"
   ]
  },
  {
   "cell_type": "code",
   "execution_count": null,
   "id": "263a155b-f1b9-4414-b02a-825bcb8802c1",
   "metadata": {},
   "outputs": [],
   "source": [
    "from sklearn.metrics.pairwise import cosine_similarity"
   ]
  },
  {
   "cell_type": "code",
   "execution_count": null,
   "id": "d9358ce6-9510-4a92-bb7f-15ac378e2bef",
   "metadata": {},
   "outputs": [],
   "source": [
    "def get_recommendations(target_anime, df, top_n=10):\n",
    "    # Compute cosine similarity\n",
    "    features = ['rating', 'episodes', 'members'] + list(df_one_hot.columns)\n",
    "    cosine_sim = cosine_similarity(df[features].values)"
   ]
  },
  {
   "cell_type": "code",
   "execution_count": null,
   "id": "8027fe32-55fc-4ef5-9ba8-a6aca4f7e283",
   "metadata": {},
   "outputs": [],
   "source": [
    "idx = df[df['title'] == target_anime].index[0]\n"
   ]
  },
  {
   "cell_type": "code",
   "execution_count": null,
   "id": "540d7be8-07e0-4c25-828f-d579d755130b",
   "metadata": {},
   "outputs": [],
   "source": [
    "sim_scores = list(enumerate(cosine_sim[idx]))"
   ]
  },
  {
   "cell_type": "code",
   "execution_count": null,
   "id": "e36daeac-9579-4fa1-aa52-92abacae620c",
   "metadata": {},
   "outputs": [],
   "source": [
    "im_scores = sorted(sim_scores, key=lambda x: x[1], reverse=True)"
   ]
  },
  {
   "cell_type": "code",
   "execution_count": null,
   "id": "107328d9-aae6-44d8-8471-de419541d52a",
   "metadata": {},
   "outputs": [],
   "source": [
    "sim_indices = [i[0] for i in sim_scores[1:top_n+1]]\n"
   ]
  },
  {
   "cell_type": "code",
   "execution_count": null,
   "id": "f174971d-a470-4a29-afa5-434775825adf",
   "metadata": {},
   "outputs": [],
   "source": [
    "return df['title'].iloc[sim_indices]"
   ]
  },
  {
   "cell_type": "code",
   "execution_count": null,
   "id": "290d010e-fd6c-452a-91b7-910557de542c",
   "metadata": {},
   "outputs": [],
   "source": [
    "recommendations = get_recommendations('Naruto', df, top_n=10)\n",
    "print(recommendations)"
   ]
  },
  {
   "cell_type": "code",
   "execution_count": null,
   "id": "d2509766-f579-4f59-ba19-b2d50e5690ad",
   "metadata": {},
   "outputs": [],
   "source": [
    "rom sklearn.model_selection import train_test_split"
   ]
  },
  {
   "cell_type": "code",
   "execution_count": null,
   "id": "8044559c-0384-4e06-9c63-f596449c0594",
   "metadata": {},
   "outputs": [],
   "source": [
    "train, test = train_test_split(df, test_size=0.2, random_state=42)"
   ]
  },
  {
   "cell_type": "markdown",
   "id": "ba0c2876-7bdb-412d-942b-306736d9bae5",
   "metadata": {},
   "source": [
    "# Interview Questions:"
   ]
  },
  {
   "cell_type": "code",
   "execution_count": null,
   "id": "2ce9cb67-c312-42d5-86a2-4c50f893720e",
   "metadata": {},
   "outputs": [],
   "source": [
    "1. Can you explain the difference between user-based and item-based collaborative filtering?\n",
    "User-Based vs Item-Based Collaborative Filtering:\n",
    "\n",
    "User-Based Collaborative Filtering: It recommends items to a user based on the preferences of other users with similar tastes. It computes the similarity between users.\n",
    "Item-Based Collaborative Filtering: It recommends items based on the similarity between items themselves. It looks at how similar items are (e.g., based on users who have rated them similarly).\n",
    "Key Difference: User-based filtering focuses on user-user similarity, while item-based filtering focuses on item-item similarity.\n",
    "\n",
    "2. What is collaborative filtering, and how does it work?    \n",
    "Collaborative Filtering:\n",
    "\n",
    "Collaborative Filtering is a recommendation technique that makes predictions about a user's interests by collecting preferences or taste information from many users (collaborative) and making recommendations based on those collective preferences. It works on the assumption that users who agreed on items in the past will agree on future items."
   ]
  },
  {
   "cell_type": "code",
   "execution_count": null,
   "id": "d26385f9-d2af-4ec1-99f4-8561bcb33666",
   "metadata": {},
   "outputs": [],
   "source": []
  }
 ],
 "metadata": {
  "kernelspec": {
   "display_name": "Python 3 (ipykernel)",
   "language": "python",
   "name": "python3"
  },
  "language_info": {
   "codemirror_mode": {
    "name": "ipython",
    "version": 3
   },
   "file_extension": ".py",
   "mimetype": "text/x-python",
   "name": "python",
   "nbconvert_exporter": "python",
   "pygments_lexer": "ipython3",
   "version": "3.12.4"
  }
 },
 "nbformat": 4,
 "nbformat_minor": 5
}
